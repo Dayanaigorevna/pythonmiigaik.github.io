{
 "cells": [
  {
   "cell_type": "markdown",
   "metadata": {},
   "source": [
    "## Самостоятельная работа 2"
   ]
  },
  {
   "cell_type": "markdown",
   "metadata": {},
   "source": [
    "### Задача 1"
   ]
  },
  {
   "cell_type": "markdown",
   "metadata": {},
   "source": [
    "Заполните переменные таким образом, чтобы все тесты ниже выдавали значение True"
   ]
  },
  {
   "cell_type": "code",
   "execution_count": null,
   "metadata": {
    "collapsed": false
   },
   "outputs": [],
   "source": [
    "var1 =\n",
    "var2 =\n",
    "var3 =\n",
    "var4 =\n",
    "var5 =\n",
    "var6 =\n",
    "\n",
    "############################################\n",
    "##      Не редактируйте ничего ниже       ##\n",
    "############################################\n",
    "\n",
    "# integers\n",
    "print(type(var1) is int)\n",
    "print(type(var6) is float)\n",
    "print(var1 < 35)\n",
    "print(var1 <= var6)\n",
    "\n",
    "# strings\n",
    "print(type(var2) is str)\n",
    "print(var2[5] == 'n' and var2[0] == \"p\")\n",
    "\n",
    "# lists\n",
    "print(type(var3) is list)\n",
    "print(len(var3) == 5)\n",
    "\n",
    "# tuples\n",
    "print(type(var4) is tuple)\n",
    "print(var4[2] == \"Hello, Python!\")\n",
    "\n",
    "# dictionaries\n",
    "print(type(var5) is dict)\n",
    "print(\"happy\" in var5)\n",
    "print(7 in var5.values())\n",
    "print(var5.get(\"egg\") == \"salad\")\n",
    "print(len(var5) == 3)\n",
    "print(var5[\"tuna\"] = \"fish\")\n",
    "print(len(var5) == 3)"
   ]
  },
  {
   "cell_type": "markdown",
   "metadata": {},
   "source": [
    "### Задача 2\n",
    "Пользователь с клавиатуры вводит целое число $n$ - длина списка. Затем последовательно вводит $n$ объектов (любого типа) - элементы списка. После пользователь вводит еще одно число $k$.\n",
    "Ваша задача удалить из списка элемент с индексом $k$. \n",
    "Выведите на экран 2 строчки: старый список и новый.\n",
    "\n",
    "**Вход**<br>\n",
    " 3<br>\n",
    " 1<br>\n",
    " 2<br>\n",
    " 3<br>\n",
    " 1<br>\n",
    "**Выход**<br>\n",
    "[1, 2, 3]<br>\n",
    "[1, 3]"
   ]
  },
  {
   "cell_type": "code",
   "execution_count": null,
   "metadata": {
    "collapsed": true
   },
   "outputs": [],
   "source": [
    "# решение"
   ]
  },
  {
   "cell_type": "markdown",
   "metadata": {},
   "source": [
    "### Задача 3\n",
    "Вычислите сумму всех поданных на вход чисел. Сначала пользователь вводит  $n$  - количество чисел, затем по очереди вводит эти $n$  чисел. Решите эту задачу, используя наименьшее число переменных.\n",
    "\n",
    "**Вход**<br>\n",
    " 3<br>\n",
    " 1<br>\n",
    " 2<br>\n",
    " 3<br>\n",
    "**Выход**<br>\n",
    "6"
   ]
  },
  {
   "cell_type": "code",
   "execution_count": null,
   "metadata": {
    "collapsed": true
   },
   "outputs": [],
   "source": [
    "# решение"
   ]
  },
  {
   "cell_type": "markdown",
   "metadata": {},
   "source": [
    "### Задача 4\n",
    "Как и во второй задаче вам на вход подается список элементов. Выведите элементы этого списка в обратном порядке.\n",
    "\n",
    "**Вход**<br>\n",
    " 3<br>\n",
    " 1<br>\n",
    " 2<br>\n",
    " 3<br>\n",
    "**Выход**<br>\n",
    "[3, 2, 1]"
   ]
  },
  {
   "cell_type": "code",
   "execution_count": null,
   "metadata": {
    "collapsed": true
   },
   "outputs": [],
   "source": [
    "# решение"
   ]
  },
  {
   "cell_type": "markdown",
   "metadata": {},
   "source": [
    "### Задача 5\n",
    "Вам дан список состоящий из кортежей длины 2. Необходимо поменять соседние \"столбцы\" местами. <br>\n",
    "** Важно!** *Все нужно выполнить в одном списке, не создавая нового.*\n",
    "\n",
    "**Вход**<br>\n",
    " a = [(1, 2),<br>\n",
    "      (1, 2),<br>\n",
    "      (1, 2)]<br>\n",
    "**Выход**<br>\n",
    "[(2, 1),<br>\n",
    "      (2, 1),<br>\n",
    "      (2, 1)]<br>"
   ]
  },
  {
   "cell_type": "code",
   "execution_count": null,
   "metadata": {
    "collapsed": true
   },
   "outputs": [],
   "source": [
    "# решение"
   ]
  },
  {
   "cell_type": "markdown",
   "metadata": {},
   "source": [
    "### Задача 6\n",
    "Преобразовать список кортежей из прошлого задания: сделать из него список списков, которые содежат элементы кортежей и сумму элементов кортежа.\n",
    "\n",
    "**Вход**<br>\n",
    " a = [(1, 2),<br>\n",
    "      (1, 2),<br>\n",
    "      (1, 2)]<br>\n",
    "**Выход**<br>\n",
    "[[1, 2, 3],<br>\n",
    "      [1, 2, 3],<br>\n",
    "      [1, 2, 3]]<br>"
   ]
  },
  {
   "cell_type": "code",
   "execution_count": null,
   "metadata": {
    "collapsed": true
   },
   "outputs": [],
   "source": [
    "# решение"
   ]
  },
  {
   "cell_type": "markdown",
   "metadata": {},
   "source": [
    "### Задача 7\n",
    "\n",
    "1. Напишите программу, которая заполняет список пятью словами, введенными с клавиатуры.\n",
    "2. Узнайте длину каждого слова и добавьте полученные значения в другой список. \n",
    "3. Сформируйте из этих двух списков словарь вида {'слово':%длина слова%}.\n",
    "4. Сделайте инверсию этого словаря, то есть создайте словарь вида {%длина слова% : 'слово'}.\n",
    "5. Какого размера ваш новый словарь? уменьшился ли он? И почепму?\n"
   ]
  },
  {
   "cell_type": "code",
   "execution_count": null,
   "metadata": {
    "collapsed": true
   },
   "outputs": [],
   "source": [
    "# решение"
   ]
  },
  {
   "cell_type": "markdown",
   "metadata": {},
   "source": [
    "### Задача 8\n",
    "\n",
    "Напишите программу, которая по данному числу n от 1 до 9 выводит на экран n пингвинов. Изображение одного пингвина\n",
    "имеет размер 5×9 символов, между двумя соседними пингвинами также имеется пустой (из пробелов) столбец. Разрешается\n",
    "вывести пустой столбец после последнего пингвина. Для упрощения рисования скопируйте пингвина из примера в среду\n",
    "разработки.\n",
    "\n",
    "**Примечание** \n",
    "1. Учтите, что вывод данных на экран производится построчно, а не попингвинно.\n",
    "2. В некоторых языках программирования символ обратного слэша “\\” в текстовых строках\n",
    "\tимеет специальное значение. Чтобы включить в состав текстовой\n",
    "\tстроки такой символ, его нужно повторить дважды.\n",
    "\n",
    "**Входные данные**<br>\n",
    "3<br>\n",
    "**Выходные данные**\n",
    " \n",
    "<pre class=\" CodeMirror-line \"><span style=\"\"> &nbsp; _~_ &nbsp; &nbsp; &nbsp; _~_ &nbsp; &nbsp; &nbsp; _~_ &nbsp;  </span>\n",
    "<span style=\"\">  (o o) &nbsp; &nbsp; (o o) &nbsp; &nbsp; (o o) &nbsp; </span>\n",
    "<span style=\"\"> /  V  \\ &nbsp; /  V  \\ &nbsp; /  V  \\  </span>\n",
    "<span style=\"\">/(  _  )\\ /(  _  )\\ /(  _  )\\ </span>\n",
    "<span style=\";\">  ^^ ^^ &nbsp; &nbsp; ^^ ^^ &nbsp; &nbsp; ^^ ^^ &nbsp; </span></pre>"
   ]
  },
  {
   "cell_type": "code",
   "execution_count": null,
   "metadata": {
    "collapsed": false
   },
   "outputs": [],
   "source": [
    "# решение"
   ]
  },
  {
   "cell_type": "markdown",
   "metadata": {},
   "source": [
    "### Задача 9 Лесенка\n",
    "\n",
    "По данному натуральному n ≤ 9 выведите лесенку из n ступенек, i-я ступенька состоит из чисел от 1 до i без пробелов.\n",
    "\n",
    "**Вход**<br>\n",
    "    1<br>\n",
    "**Выход**<br>\n",
    "    1<br>\n",
    "    \n",
    "**Вход**<br>\n",
    "    3<br>\n",
    "**Выход**<br>\n",
    "    1<br>\n",
    "    12<br>\n",
    "    123<br>\n"
   ]
  },
  {
   "cell_type": "code",
   "execution_count": null,
   "metadata": {
    "collapsed": true
   },
   "outputs": [],
   "source": [
    "# решение"
   ]
  }
 ],
 "metadata": {
  "anaconda-cloud": {},
  "kernelspec": {
   "display_name": "Python [default]",
   "language": "python",
   "name": "python3"
  },
  "language_info": {
   "codemirror_mode": {
    "name": "ipython",
    "version": 3
   },
   "file_extension": ".py",
   "mimetype": "text/x-python",
   "name": "python",
   "nbconvert_exporter": "python",
   "pygments_lexer": "ipython3",
   "version": "3.5.2"
  }
 },
 "nbformat": 4,
 "nbformat_minor": 2
}
