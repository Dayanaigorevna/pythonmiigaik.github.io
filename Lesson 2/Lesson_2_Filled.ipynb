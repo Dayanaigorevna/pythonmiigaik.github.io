{
 "cells": [
  {
   "cell_type": "markdown",
   "metadata": {},
   "source": [
    "# Занятие 2 (Полная версия)\n",
    "### Лекторы: Ярослав Петрик, Тихонова Полина"
   ]
  },
  {
   "cell_type": "markdown",
   "metadata": {},
   "source": [
    "*Составлено с использованием материалов курса лекций «Программирование на языке Python для сбора и анализа данных» Щурова И.В., НИУ ВШЭ*"
   ]
  },
  {
   "cell_type": "markdown",
   "metadata": {},
   "source": [
    "### Python как калькулятор"
   ]
  },
  {
   "cell_type": "markdown",
   "metadata": {},
   "source": [
    "#### Арифметические операторы\n",
    "\n",
    "<table border=\"1\" class=\"docutils\"><tbody valign=\"top\"><tr>\n",
    "<td><strong>x + y</strong></td><td>Сложение</td></tr>\n",
    "<tr><td><strong>x - y</strong></td><td>Вычитание</td></tr>\n",
    "<tr><td><strong>x * y</strong></td><td>Умножение</td></tr>\n",
    "<tr><td><strong>x / y</strong></td><td>Деление</td></tr>\n",
    "<tr><td><strong>x // y</strong></td><td>Получение целой части от деления</td></tr>\n",
    "<tr><td><strong>x % y</strong></td><td>Остаток от деления</td></tr>\n",
    "<tr><td><strong>x ** y</strong></td><td>Возведение в степень</td></tr>\n",
    "<tr><td><strong>-x</strong></td><td>Смена знака числа</td></tr>\n",
    "<tr><td><strong>abs(x)</strong></td><td>Модуль числа</td></tr></tbody></table>"
   ]
  },
  {
   "cell_type": "code",
   "execution_count": null,
   "metadata": {
    "collapsed": true
   },
   "outputs": [],
   "source": [
    "5+3"
   ]
  },
  {
   "cell_type": "code",
   "execution_count": null,
   "metadata": {
    "collapsed": true
   },
   "outputs": [],
   "source": [
    "# P.s. будьте бдительны! \n",
    "# В python 2.7 этот код приведет к ответу 1.\n",
    "# Чтобы получить ожиаемый результат нобходимо написать 5.0/3.0\n",
    "5/3"
   ]
  },
  {
   "cell_type": "markdown",
   "metadata": {},
   "source": [
    "#### Логические операторы\n",
    "<table class=\"src\" border=\"1\">\n",
    "<tbody>\n",
    "<tr>\n",
    "<td style=\"text-align: center;\"><strong><span>x == y </span></strong></td>\n",
    "<td>Проверяет равны ли оба операнда.Если да, то условие становится истинным.</td>\n",
    "</tr>\n",
    "<tr>\n",
    "<td style=\"text-align: center\"><strong><spa>x != y </strong></td>\n",
    "<td>Проверяет НЕ равны ли оба операнда. Если нет, то условие становится истинным.</td>\n",
    "<tr>\n",
    "<td style=\"text-align: center;\"><strong><span>x &gt; y</span></strong></td>\n",
    "<td>Проверяет больше ли значение левого операнда, чем значение правого. Если да, то условие становится истинным.</td>\n",
    "</tr>\n",
    "<tr>\n",
    "<td style=\"text-align: center;\"><strong><span>x &lt; y</span></strong></td>\n",
    "<td>Проверяет меньше ли значение левого операнда, чем значение правого. Если да, то условие становится истинным.</td>\n",
    "</tr>\n",
    "<tr>\n",
    "<td style=\"text-align: center;\"><strong><span>x &gt;= y</span></strong></td>\n",
    "<td>Проверяет больше или равно значение левого операнда, чем значение правого. Если да, то условие становится истинным.</td>\n",
    "</tr>\n",
    "<tr>\n",
    "<td style=\"text-align: center;\"><strong><span style=\"\">x &lt;= y </span></strong></td>\n",
    "<td>Проверяет меньше или равно значение левого операнда, чем значение правого. Если да, то условие становится истинным.</td>\n",
    "</td>\n",
    "</tr>\n",
    "</tbody>\n",
    "</table>"
   ]
  },
  {
   "cell_type": "code",
   "execution_count": null,
   "metadata": {},
   "outputs": [],
   "source": [
    "4 > 3"
   ]
  },
  {
   "cell_type": "code",
   "execution_count": null,
   "metadata": {},
   "outputs": [],
   "source": [
    "'осень' != 'лето'"
   ]
  },
  {
   "cell_type": "markdown",
   "metadata": {},
   "source": [
    "#### Оператор присваивания  "
   ]
  },
  {
   "cell_type": "code",
   "execution_count": null,
   "metadata": {
    "collapsed": true
   },
   "outputs": [],
   "source": [
    "a = 5"
   ]
  },
  {
   "cell_type": "code",
   "execution_count": null,
   "metadata": {},
   "outputs": [],
   "source": [
    "a == 3"
   ]
  },
  {
   "cell_type": "markdown",
   "metadata": {
    "collapsed": true
   },
   "source": [
    "### Ввод данных"
   ]
  },
  {
   "cell_type": "code",
   "execution_count": null,
   "metadata": {},
   "outputs": [],
   "source": [
    "name = input(\"Введите ваше имя: \")\n",
    "print(\"Привет,\",name)"
   ]
  },
  {
   "cell_type": "code",
   "execution_count": null,
   "metadata": {},
   "outputs": [],
   "source": [
    "# А переменная name все еще хранит введенные данные\n",
    "name"
   ]
  },
  {
   "cell_type": "code",
   "execution_count": null,
   "metadata": {},
   "outputs": [],
   "source": [
    "# попробуем арифметику\n",
    "x = input(\"Введите какое-нибудь число: \")\n",
    "print(x*2)"
   ]
  },
  {
   "cell_type": "code",
   "execution_count": null,
   "metadata": {},
   "outputs": [],
   "source": [
    "# а что такое x?\n",
    "type(x)"
   ]
  },
  {
   "cell_type": "code",
   "execution_count": null,
   "metadata": {},
   "outputs": [],
   "source": [
    "y = 5\n",
    "type(y)"
   ]
  },
  {
   "cell_type": "code",
   "execution_count": null,
   "metadata": {},
   "outputs": [],
   "source": [
    "x = int(x) # какие еще числа есть?\n",
    "print(x*2)"
   ]
  },
  {
   "cell_type": "code",
   "execution_count": null,
   "metadata": {
    "collapsed": true
   },
   "outputs": [],
   "source": [
    "x = int(input(\"Введите какое-нибудь число: \"))\n",
    "print(x*2)"
   ]
  },
  {
   "cell_type": "code",
   "execution_count": null,
   "metadata": {
    "collapsed": true
   },
   "outputs": [],
   "source": [
    "x = float(input(\"Введите какое-нибудь число (не обязательно целое): \"))\n",
    "print(x*2)"
   ]
  },
  {
   "cell_type": "markdown",
   "metadata": {
    "collapsed": true
   },
   "source": [
    "### Задачи\n",
    "1. **\"Кассовый аппарат\"** <br>\n",
    "Ваша задача узнать у пользователя товар, который он хочет купить, его цену и количество. <br>\n",
    "А вывести на экран \"чек\" с суммой покупки и сообщением вида: \"Вы хотите купить ***товар*** . С вас ***сумма*** руб.\""
   ]
  },
  {
   "cell_type": "code",
   "execution_count": null,
   "metadata": {
    "collapsed": true
   },
   "outputs": [],
   "source": [
    "# решение"
   ]
  },
  {
   "cell_type": "markdown",
   "metadata": {},
   "source": [
    "2. **\"Генератор\" чисел фибоначчи**\n",
    "*Числа Фибоначчи* или *последовательность Фибоначчи* — последовательность чисел, начинающаяся с двух единиц, и такая, что очередное число в этой последовательности равно сумме двух предыдущих. Формально можно определить её следующим образом:\n",
    "\n",
    "$$a_1=1;$$\n",
    "\n",
    "$$a_2=1;$$\n",
    "\n",
    "$$a_{n+1}=a_n+a_{n-1}\\,\\,\\, для\\,\\,\\,всех\\,\\,\\,n>2.$$\n",
    "\n",
    "Например, $a_3=1+1=2$, $a_4=2+1=3.$\n",
    "\n",
    "Задание: номер числа фибоначчи и само число. \"Сгенерировать\" несколько чисел."
   ]
  },
  {
   "cell_type": "code",
   "execution_count": null,
   "metadata": {
    "collapsed": true
   },
   "outputs": [],
   "source": [
    "# решение"
   ]
  },
  {
   "cell_type": "markdown",
   "metadata": {},
   "source": [
    "Можно разобрать на python-tutor: http://pythontutor.com/live.html#mode=edit"
   ]
  },
  {
   "cell_type": "code",
   "execution_count": null,
   "metadata": {
    "collapsed": true
   },
   "outputs": [],
   "source": [
    "a = 1 # первое число\n",
    "b = 1 # второе число\n",
    "i = 2 # номер того числа, которое находится в переменной b (сейчас это a_2)"
   ]
  },
  {
   "cell_type": "code",
   "execution_count": null,
   "metadata": {},
   "outputs": [],
   "source": [
    "c = a + b # нашли следующее число\n",
    "i = i + 1 # увеличили i на 1\n",
    "a = b   # значение a нам уже не нужно, а вот значение b ещё пригодится\n",
    "b = c   # запомнили вычисленное значение\n",
    "print(i, b)"
   ]
  },
  {
   "cell_type": "markdown",
   "metadata": {},
   "source": [
    "### Списки"
   ]
  },
  {
   "cell_type": "code",
   "execution_count": null,
   "metadata": {
    "collapsed": true
   },
   "outputs": [],
   "source": [
    "numbers = [1, 3, 5, 7, 9]  # задается последовательностью объектов в квадратных скобках"
   ]
  },
  {
   "cell_type": "markdown",
   "metadata": {
    "collapsed": true
   },
   "source": [
    "В списках можно хранить не только числа. Например, создадим список из строк."
   ]
  },
  {
   "cell_type": "code",
   "execution_count": null,
   "metadata": {
    "collapsed": true
   },
   "outputs": [],
   "source": [
    "strings = ['белый','грузди', 'лисички']"
   ]
  },
  {
   "cell_type": "markdown",
   "metadata": {
    "collapsed": true
   },
   "source": [
    "В списке могут храниться данные разных типов. Например, строки, целые числа, числа с плавающей точкой."
   ]
  },
  {
   "cell_type": "code",
   "execution_count": null,
   "metadata": {
    "collapsed": true
   },
   "outputs": [],
   "source": [
    "mixed_list = [\"cat\", 1, 5.5]"
   ]
  },
  {
   "cell_type": "markdown",
   "metadata": {},
   "source": [
    "Можно обращаться к отдельным элементам списка и работать с ними как с обычными переменными. Чтобы выбрать элемент нужно указать его номер.\n",
    "Угадайте, с какого числа начинается нумерация?"
   ]
  },
  {
   "cell_type": "code",
   "execution_count": null,
   "metadata": {},
   "outputs": [],
   "source": [
    "print(numbers)\n",
    "print(numbers[1])"
   ]
  },
  {
   "cell_type": "markdown",
   "metadata": {
    "collapsed": true
   },
   "source": [
    "Если в списке есть элементы разных типов, они никак не «мешают» друг другу. Например, наличие в списке строк не превращает другие элементы этого списка в строки."
   ]
  },
  {
   "cell_type": "code",
   "execution_count": null,
   "metadata": {},
   "outputs": [],
   "source": [
    "print(mixed_list)\n",
    "print(mixed_list[2]+4)"
   ]
  },
  {
   "cell_type": "markdown",
   "metadata": {
    "collapsed": true
   },
   "source": [
    "Элементы списка можно менять так же, как значения обычных переменных."
   ]
  },
  {
   "cell_type": "code",
   "execution_count": null,
   "metadata": {},
   "outputs": [],
   "source": [
    "numbers[1]=30\n",
    "numbers"
   ]
  },
  {
   "cell_type": "markdown",
   "metadata": {
    "collapsed": true
   },
   "source": [
    "Чтобы узнать длину списка, можно использовать функцию len"
   ]
  },
  {
   "cell_type": "code",
   "execution_count": null,
   "metadata": {},
   "outputs": [],
   "source": [
    "len(numbers)"
   ]
  },
  {
   "cell_type": "markdown",
   "metadata": {
    "collapsed": true
   },
   "source": [
    "Чтобы получить максимальный и минимальный элементы списка: max() и min(), соответственно."
   ]
  },
  {
   "cell_type": "code",
   "execution_count": null,
   "metadata": {},
   "outputs": [],
   "source": [
    "max(numbers), min(numbers)"
   ]
  },
  {
   "cell_type": "markdown",
   "metadata": {},
   "source": [
    "Также можно узнать сумму элементов списка: sum()"
   ]
  },
  {
   "cell_type": "code",
   "execution_count": null,
   "metadata": {},
   "outputs": [],
   "source": [
    "sum(numbers)"
   ]
  },
  {
   "cell_type": "markdown",
   "metadata": {},
   "source": [
    "Можно удалить какой-то элемент списка: del()"
   ]
  },
  {
   "cell_type": "code",
   "execution_count": null,
   "metadata": {},
   "outputs": [],
   "source": [
    "del(numbers[3])\n",
    "numbers"
   ]
  },
  {
   "cell_type": "markdown",
   "metadata": {
    "collapsed": true
   },
   "source": [
    "#### Задачи\n",
    "1. Создайте список из каких-нибудь случайных чисел и узнайте сколько чисел в вашем списке.\n",
    "2. Найдите сумму этих чисел.\n",
    "3. Измените знак 3го элемента списка.\n",
    "4. Удалите первый элемент.\n",
    "5. Посмотрите как изменилась сумма.\n",
    "6. Узнайте сколько элементов в вашем списке.\n",
    "7. Выведете последний элемент списка.\n",
    "\n",
    "***P.s. пожалуйста, оформите это задание в красивый отчет вида:***<br>\n",
    "'Мой список: [...]. В нем .. элементов. <br>\n",
    "Сумма чисел из списка: .. <br>\n",
    "Теперь мой список: [...]. В нем .. элементов.<br>\n",
    "Сумма чисел стала: ..<br>\n",
    "Последний элемент списка: ..'"
   ]
  },
  {
   "cell_type": "code",
   "execution_count": null,
   "metadata": {
    "collapsed": true
   },
   "outputs": [],
   "source": [
    "# решение"
   ]
  },
  {
   "cell_type": "markdown",
   "metadata": {},
   "source": [
    "А вот так просто, оказывается, можно обращаться к последнему / предпоследнему / предпредпоследнему и т.д. элементу списка."
   ]
  },
  {
   "cell_type": "code",
   "execution_count": null,
   "metadata": {},
   "outputs": [],
   "source": [
    "numbers = [1, 3, 5, 7]\n",
    "numbers[-1], numbers[-2]"
   ]
  },
  {
   "cell_type": "markdown",
   "metadata": {
    "collapsed": true
   },
   "source": [
    "### Методы списков"
   ]
  },
  {
   "cell_type": "markdown",
   "metadata": {},
   "source": [
    "«Метод» — функция, «принадлежащая» некоторому объекту (в данном случае — объекту numbers типа list (список)), и что-то делающая с этим объектом. У numbers, как у любого списка, есть много методов. Можно набрать numbers., нажать табуляцию (после точки), и получить список доступных методов. А ещё можно набрать help(list) или даже help(numbers) (в нашем случае) и получить краткое описание этих методов. Например, так можно узнать, что помимо append у списков есть метод extend."
   ]
  },
  {
   "cell_type": "code",
   "execution_count": null,
   "metadata": {},
   "outputs": [],
   "source": [
    "print(numbers)\n",
    "numbers.append(9)\n",
    "print(numbers)"
   ]
  },
  {
   "cell_type": "code",
   "execution_count": null,
   "metadata": {},
   "outputs": [],
   "source": [
    "print(numbers)\n",
    "numbers.extend([7, 5, 3])\n",
    "print(numbers)"
   ]
  },
  {
   "cell_type": "markdown",
   "metadata": {},
   "source": [
    "Также можно:"
   ]
  },
  {
   "cell_type": "code",
   "execution_count": null,
   "metadata": {},
   "outputs": [],
   "source": [
    "first_list = [1, 1, 1]\n",
    "second_list = [2, 2, 2]\n",
    "new_list = first_list + second_list\n",
    "print(new_list)"
   ]
  },
  {
   "cell_type": "code",
   "execution_count": null,
   "metadata": {},
   "outputs": [],
   "source": [
    "print(numbers)\n",
    "# не надо так, так как это долго: numbers копируется в numbers\n",
    "numbers = numbers + [7, 5, 3]\n",
    "print(numbers)"
   ]
  },
  {
   "cell_type": "markdown",
   "metadata": {},
   "source": [
    "#### Срезы"
   ]
  },
  {
   "cell_type": "code",
   "execution_count": null,
   "metadata": {},
   "outputs": [],
   "source": [
    "print(numbers)\n",
    "print(numbers[1:4])  # открытый правый конец"
   ]
  },
  {
   "cell_type": "code",
   "execution_count": null,
   "metadata": {},
   "outputs": [],
   "source": [
    "print(numbers[7:])\n",
    "print(numbers[:7])"
   ]
  },
  {
   "cell_type": "markdown",
   "metadata": {
    "collapsed": true
   },
   "source": [
    "Срезы можно использовать для присваивания."
   ]
  },
  {
   "cell_type": "code",
   "execution_count": null,
   "metadata": {},
   "outputs": [],
   "source": [
    "numbers = [5, 8, 9, 10]\n",
    "print(numbers[1:3])\n",
    "numbers[1:3]= [55, 77]\n",
    "print(numbers)"
   ]
  },
  {
   "cell_type": "markdown",
   "metadata": {},
   "source": [
    "Не обязательно, чтобы список, который мы присваиваем срезу, имел ту же длину, что и срез. Можно присвоить более длинный список (тогда исходный список расширится), а можно менее длинный (тогда сузится). Можно использовать срезы, чтобы вставить несколько элементов внутрь списка. (Для одного элемента это можно делать с помощью метода insert.)"
   ]
  },
  {
   "cell_type": "code",
   "execution_count": null,
   "metadata": {},
   "outputs": [],
   "source": [
    "numbers = [1, 3, 5, 7, 9]\n",
    "print(numbers)\n",
    "# это пустой срез\n",
    "print(numbers[2:4])\n",
    "numbers[2:4] = [2, 6, 8]\n",
    "print(numbers)\n",
    "numbers[2:5] = [5]\n",
    "print(numbers)"
   ]
  },
  {
   "cell_type": "code",
   "execution_count": null,
   "metadata": {},
   "outputs": [],
   "source": [
    "numbers[1:1] # Что будет?"
   ]
  },
  {
   "cell_type": "markdown",
   "metadata": {},
   "source": [
    "#### Задачи\n",
    "1. Перепишите \"генератор\" чисел фибоначчи с использанием списков. \n",
    "Новый генератор должен печатать на экран 2 строчки: в первой - новое число фибоначчи; во второй - состояние списка на текущий момент. <br>\n",
    "Вычислите несколько чисел последовательности.\n",
    "2. Преобразуйте \"генератор\" так, чтобы в первой строчке теперь выводились число фибоначчи и сумма всех найденных на текущий момент чисел фибоначчи, кроме последнего. Вторая строчка остается прежней.\n",
    "3. Почему такой \"генератор\" хуже того, что мы писали в предыдущий раз?\n",
    "4. Сделайте копию списка последовательности, которая у вас вычислена на данный момент,  и проделайте еще одну итерацию генератора. Что получилось? Что случилось с копией списка?"
   ]
  },
  {
   "cell_type": "code",
   "execution_count": null,
   "metadata": {
    "collapsed": true
   },
   "outputs": [],
   "source": [
    "# решение"
   ]
  },
  {
   "cell_type": "markdown",
   "metadata": {},
   "source": [
    "### Коварные списки\n",
    "#### Присвоение и копирование списков"
   ]
  },
  {
   "cell_type": "code",
   "execution_count": null,
   "metadata": {
    "collapsed": true
   },
   "outputs": [],
   "source": [
    "first_list = [1, 2, 3, 'Hello world!']\n",
    "second_list = first_list"
   ]
  },
  {
   "cell_type": "code",
   "execution_count": null,
   "metadata": {
    "collapsed": true
   },
   "outputs": [],
   "source": [
    "first_list"
   ]
  },
  {
   "cell_type": "code",
   "execution_count": null,
   "metadata": {
    "collapsed": true
   },
   "outputs": [],
   "source": [
    "second_list"
   ]
  },
  {
   "cell_type": "code",
   "execution_count": null,
   "metadata": {
    "collapsed": true
   },
   "outputs": [],
   "source": [
    "Так мы создали два одинаковым списка. Изменим теперь один из них:"
   ]
  },
  {
   "cell_type": "code",
   "execution_count": null,
   "metadata": {
    "collapsed": true
   },
   "outputs": [],
   "source": [
    "first_list[-1] = 'Hello, Polly!'"
   ]
  },
  {
   "cell_type": "code",
   "execution_count": null,
   "metadata": {},
   "outputs": [],
   "source": [
    "print(first_list)\n",
    "print(second_list)"
   ]
  },
  {
   "cell_type": "markdown",
   "metadata": {},
   "source": [
    "Ой! Когда мы изменили список second_list, магическим образом изменился и исходный список first_list! Почему так произошло? \n",
    "<br>\n",
    "Дело в том, что когда мы присваиваем список переменной, то есть пишем что-нибудь вроде\n",
    "\n",
    "first_list = [1, 2, 3, 'Hello world!']\n",
    "\n",
    "мы делаем две вещи: во-первых, создаём список (с помощью операции «квадратные скобки»), а потом говорим, что теперь переменная first_list будет УКАЗЫВАТЬ на этот список (с помощью операции «равно»). \n",
    "\n",
    "После этого в first_list хранится не сам список, а указатель (ссылка) на него. Когда мы присваиваем значение first_list новой переменной second_list, мы не производим копирование списка, мы копируем только указатель. То есть second_list просто стала другим именем для того же самого списка, что и firt_list. Поэтому изменение элементов second_list приведет к изменению first_list, и наоборот.\n",
    "\n",
    "Если мы хотим создать действительно новый список, то есть скопировать существующий, нужно использовать метод copy().\n",
    "\n",
    "Давайте сходим в [python-tutor](http://pythontutor.com/live.html#mode=edit)  и посмотрим что и как."
   ]
  },
  {
   "cell_type": "code",
   "execution_count": null,
   "metadata": {
    "collapsed": true
   },
   "outputs": [],
   "source": [
    "# Пойдем в Python tutor\n",
    "first_list = [1, 2, 3, 'Hello, world!']\n",
    "second_list = first_list\n",
    "third_list = first_list.copy()\n",
    "print(first_list)\n",
    "print(second_list)\n",
    "print(third_list)\n",
    "third_list[-1] = 'Hello, Polly!'\n",
    "print(first_list)\n",
    "print(second_list)\n",
    "print(third_list)"
   ]
  },
  {
   "cell_type": "markdown",
   "metadata": {},
   "source": [
    "### Цикл for\n",
    "Он нужен в той ситуации, когда вам требуется перебрать все элементы списка и что-нибудь с ними сделать. <br>\n",
    "Рассмотрим простой пример: выведем припев песни Урганта, состоящий из однотипных предложений."
   ]
  },
  {
   "cell_type": "code",
   "execution_count": null,
   "metadata": {},
   "outputs": [],
   "source": [
    "mushrooms = ['белый','грузди', 'лисички']\n",
    "for mushroom in mushrooms:\n",
    "    print('Это', mushroom, ', например.' )\n",
    "print(\"А вот это я б не ел!\")"
   ]
  },
  {
   "cell_type": "markdown",
   "metadata": {},
   "source": [
    "Здесь требуются пояснения. В первой строчке создаётся список numbers. Во второй используется ключевое слово for, которое переводится с английского для. Читать эту строчку нужно так: «для каждого элемента x из списка numbers сделать то-то и то-то». В конце этой строчки обязательно нужно поставить двоеточие, а в следующей строке сделать отступ. (IPython Notebook сделает его сам.)\n",
    "\n",
    "С отступами отдельная история. Как правило, нам нужно выполнить в цикле не одну команду, а несколько. Чтобы отметить, где начинается и, самое главное, где заканчивается набор команд, относящихся к циклу (или другой управляющей конструкции), в разных языках программирования используются разные маркеры: в Pascal это ключевые слова begin и end, в C-подобных языках это фигурные скоби. Наряду с этими маркерами, во всех языках программирования есть правило хорошего тона: начал блок команд — сделай отступ. Это нужно, чтобы сразу видеть, где блок заканчивается, и какие команды к каким блокам относятся. Однако, компиляторы ориентировались при разборе программы как раз на маркеры, а не на отступы, и в результате правило про отступы можно было смело игнорировать: копилятор всё равно поймёт. Другие разработчики, правда, не поймут, но… В общем, правило про отступы нередко нарушалось, особенно начинающими программистами. Автор Python решил, что в его языке это правило будут соблюдать все, и поэтому просто не оставил других способов выделить блок, кроме отступов.\n",
    "\n",
    "Итак, отступами выделено тело цикла, в него входят в данном случае две команды. Когда Python доходит до строчки for, он берёт первый элемент списка (в данном случае numbers), присваивает его соответствующей переменной (в данном случае x), после чего идёт выполнять строчки из тела цикла. Когда он дойдёт до конца тела цикла, он вернётся к его началу, возьмёт следующий элемент списка (если он есть), присвоит теперь его переменной x и снова выполнит тело цикла. Так будет продолжаться до тех пор, пока в списке есть элементы, которые мы не обработали — когда список кончится, цикл прекратится и будут выполнены строчки, которые идут после тела цикла (без отступа)."
   ]
  },
  {
   "cell_type": "markdown",
   "metadata": {},
   "source": [
    "Иногда у нас нет никакого конкретного списка, а просто нужно выполнить некоторый код несколько раз, причём заранее неизвестно, сколько. Для решения этой задачи служит объект range()."
   ]
  },
  {
   "cell_type": "code",
   "execution_count": null,
   "metadata": {
    "collapsed": true
   },
   "outputs": [],
   "source": [
    "for i in range(5):\n",
    "    print(\"number i =\", i)"
   ]
  },
  {
   "cell_type": "markdown",
   "metadata": {
    "collapsed": true
   },
   "source": [
    "Что такое range?\n",
    "range(n) - это встроенная функция питона, которая позволяет генерировать список арифметической прогрессии от 0 до n-1. <br>\n",
    "Также range может принимать аругменты начала прогрессии и шага. Например,"
   ]
  },
  {
   "cell_type": "code",
   "execution_count": null,
   "metadata": {},
   "outputs": [],
   "source": [
    "list(range(5))"
   ]
  },
  {
   "cell_type": "code",
   "execution_count": null,
   "metadata": {},
   "outputs": [],
   "source": [
    "list(range(1, 5))"
   ]
  },
  {
   "cell_type": "code",
   "execution_count": null,
   "metadata": {},
   "outputs": [],
   "source": [
    "list(range(1, 5, 2))"
   ]
  },
  {
   "cell_type": "markdown",
   "metadata": {},
   "source": [
    "#### Важное примечание!"
   ]
  },
  {
   "cell_type": "code",
   "execution_count": null,
   "metadata": {},
   "outputs": [],
   "source": [
    "mushrooms = ['белый','грузди', 'лисички']\n",
    "for mushroom in mushrooms:\n",
    "    mushroom = 'не '+mushroom\n",
    "print(mushrooms)"
   ]
  },
  {
   "cell_type": "code",
   "execution_count": null,
   "metadata": {},
   "outputs": [],
   "source": [
    "mushrooms = ['белый','грузди', 'лисички']\n",
    "for i in range(len(mushrooms)):\n",
    "    mushrooms[i] = 'не '+mushrooms[i]\n",
    "print(mushrooms)"
   ]
  },
  {
   "cell_type": "markdown",
   "metadata": {},
   "source": [
    "#### Задачи"
   ]
  },
  {
   "cell_type": "markdown",
   "metadata": {},
   "source": [
    "1. Возьмите список чисел фибоначчи, который у вас остался с прошлого задания. Сделайте копию и увеличьте каждое число последовательности на 1 так, чтобы копия списка осталась неизменной.\n",
    "2. Создайте список четных чисел от 0 до 100. Для каждого элемента списка проделайте следующие действия: разделите на 2, выведите получившееся значение на экран.\n",
    "3. Создайте два списка: в одном списке будут страны, а во втором площади этих стран (расположенные в соответствующем порядке).\n",
    "Выведете на экран для каждой страны строчку: \"Площадь ***страны*** равна ***число*** млн. кв. км.\" <br>\n",
    "P.s. Примеры стран с площадями приведены ниже."
   ]
  },
  {
   "cell_type": "markdown",
   "metadata": {},
   "source": [
    "Страна | Площадь\n",
    "------------ | -------------\n",
    "Россия | 17.098\n",
    "Канада | 9.97\n",
    "Соединенные Штаты Америки | 9.62\n",
    "Китай | 9.59\n",
    "Бразилия | 8.51"
   ]
  },
  {
   "cell_type": "code",
   "execution_count": null,
   "metadata": {
    "collapsed": true
   },
   "outputs": [],
   "source": [
    "# решение"
   ]
  },
  {
   "cell_type": "markdown",
   "metadata": {},
   "source": [
    "### Словари"
   ]
  },
  {
   "cell_type": "markdown",
   "metadata": {},
   "source": [
    "Было бы здорово, если бы у нас была возможность иметь тип данных, в котором элементы нумеруются не натуральными числами, а произвольными объектами. Оказывается, такой тип данных существует: в Python он называется словарём (dictionary).\n",
    "\n",
    "Более общий термин для такого типа данных: ассоциированный массив; в других языках программирования используются также другие термины — например, в Perl похожий объект называется hash — сокращение от hash table."
   ]
  },
  {
   "cell_type": "code",
   "execution_count": null,
   "metadata": {
    "collapsed": true
   },
   "outputs": [],
   "source": [
    "countries = {\"Россия\": 17.098, \"Канада\": 9.97, \"США\":9.62, \"Китай\": 9.59, 'Бразилия':8.51}"
   ]
  },
  {
   "cell_type": "markdown",
   "metadata": {},
   "source": [
    "Это похоже на создание списка, но есть ряд отличий. Во-первых, мы использовали фигурные скобки вместо квадратных, чтобы показать, что создаём именно словарь. Во-вторых, словарь состоит из записей, каждая запись состоит из двух частей: ключа (key) и значения (value). Ключ и значение разделяются двоеточием. Например, у нас есть запись \"Канада\": 9.97 с ключом \"Канада\" и значением 9.97. Всего наш словарь countries сейчас содержит 5 записей, ключами которых являются страны, а значениями — их площади."
   ]
  },
  {
   "cell_type": "code",
   "execution_count": null,
   "metadata": {
    "collapsed": true
   },
   "outputs": [],
   "source": [
    "countries['Россия']"
   ]
  },
  {
   "cell_type": "code",
   "execution_count": null,
   "metadata": {
    "collapsed": true
   },
   "outputs": [],
   "source": [
    "# при этом чувствителен к регистру. Какую ошибку он пишет?\n",
    "countries['россия']"
   ]
  },
  {
   "cell_type": "markdown",
   "metadata": {},
   "source": [
    "Можно изменить значение записи, точно так же, как изменить элемент списка."
   ]
  },
  {
   "cell_type": "code",
   "execution_count": null,
   "metadata": {
    "collapsed": true
   },
   "outputs": [],
   "source": [
    "countries['Россия'] += 0.26 # К России присоединили крым"
   ]
  },
  {
   "cell_type": "markdown",
   "metadata": {},
   "source": [
    "Можем легко добавить новый элемент"
   ]
  },
  {
   "cell_type": "code",
   "execution_count": null,
   "metadata": {
    "collapsed": true
   },
   "outputs": [],
   "source": [
    "countries['Австралия'] = 7.86 "
   ]
  },
  {
   "cell_type": "markdown",
   "metadata": {},
   "source": [
    "Часто нам хочется иметь возможность запросить запись, а в случае, если её нет, получить какое-нибудь «значение по умолчанию», а не ошибку. Для этого нужно использовать метод get() вместо квадратных скобок."
   ]
  },
  {
   "cell_type": "code",
   "execution_count": null,
   "metadata": {
    "collapsed": true
   },
   "outputs": [],
   "source": [
    "countries.get('Франция')"
   ]
  },
  {
   "cell_type": "markdown",
   "metadata": {},
   "source": [
    "Можно получить список всех ключей словаря:"
   ]
  },
  {
   "cell_type": "code",
   "execution_count": null,
   "metadata": {},
   "outputs": [],
   "source": [
    "countries.keys()"
   ]
  },
  {
   "cell_type": "markdown",
   "metadata": {},
   "source": [
    "На самом деле это не совсем список, но эта штука ведёт себя почти как список и из неё можно сделать список. Аналогично со списком всех значений словаря."
   ]
  },
  {
   "cell_type": "code",
   "execution_count": null,
   "metadata": {},
   "outputs": [],
   "source": [
    "countries.values()"
   ]
  },
  {
   "cell_type": "markdown",
   "metadata": {},
   "source": [
    "Ключами словарей могут быть не только строчки. Допустим, мы хотим создать словарь, в котором ключами будут числа. Нет ничего проще:"
   ]
  },
  {
   "cell_type": "code",
   "execution_count": null,
   "metadata": {
    "collapsed": true
   },
   "outputs": [],
   "source": [
    "squares={1:1, 2:4, 3:9}"
   ]
  },
  {
   "cell_type": "code",
   "execution_count": null,
   "metadata": {},
   "outputs": [],
   "source": [
    "squares"
   ]
  },
  {
   "cell_type": "code",
   "execution_count": null,
   "metadata": {},
   "outputs": [],
   "source": [
    "squares[1]"
   ]
  },
  {
   "cell_type": "code",
   "execution_count": null,
   "metadata": {},
   "outputs": [],
   "source": [
    "squares[2]"
   ]
  },
  {
   "cell_type": "markdown",
   "metadata": {},
   "source": [
    "В предыдущих двух строчках `squares` ведёт себя примерно как список, но если внимательно приглядеться, то видно, что это не список, а всё-таки словарь."
   ]
  },
  {
   "cell_type": "code",
   "execution_count": null,
   "metadata": {},
   "outputs": [],
   "source": [
    "squares"
   ]
  },
  {
   "cell_type": "markdown",
   "metadata": {},
   "source": [
    "Например, у любого непустого списка есть элемент с индексом 0, а у `squares` такого нет:"
   ]
  },
  {
   "cell_type": "code",
   "execution_count": null,
   "metadata": {},
   "outputs": [],
   "source": [
    "squares[0]"
   ]
  },
  {
   "cell_type": "markdown",
   "metadata": {},
   "source": [
    "### Перебор записей в словаре\n",
    "Как обрабатывать информацию в словаре? Для перебора всех элементов списка можно было использовать цикл `for`. А что будет, если ему скормить словарь вместо списка? Попробуем:"
   ]
  },
  {
   "cell_type": "code",
   "execution_count": null,
   "metadata": {},
   "outputs": [],
   "source": [
    "for k in countries:\n",
    "    print(k)"
   ]
  },
  {
   "cell_type": "markdown",
   "metadata": {},
   "source": [
    "Понятно! Цикл `for` в этом случае перебирает все *ключи* нашего словаря. А зная ключ, можно получить и значение:"
   ]
  },
  {
   "cell_type": "code",
   "execution_count": null,
   "metadata": {},
   "outputs": [],
   "source": [
    "for k in countries:\n",
    "    print(\"Страна\", k, \"имеет площадь\", countries[k])"
   ]
  },
  {
   "cell_type": "markdown",
   "metadata": {},
   "source": [
    "Однако, есть более изящный способ получить сразу ключ и значение очередной записи: использовать `items()`."
   ]
  },
  {
   "cell_type": "code",
   "execution_count": null,
   "metadata": {},
   "outputs": [],
   "source": [
    "for k, v in countries.items():\n",
    "    print(\"Страна\", k, \"имеет площадь\", countries[k])"
   ]
  },
  {
   "cell_type": "markdown",
   "metadata": {},
   "source": [
    "Как работает этот код? Здесь используется метод `items()`, возвращающий список (точнее, итератор), состоящий из кортежей (tuple) вида `(ключ, значение)`. "
   ]
  },
  {
   "cell_type": "code",
   "execution_count": null,
   "metadata": {},
   "outputs": [],
   "source": [
    "countries.items()"
   ]
  },
  {
   "cell_type": "code",
   "execution_count": null,
   "metadata": {},
   "outputs": [],
   "source": [
    "list(countries.items())"
   ]
  },
  {
   "cell_type": "markdown",
   "metadata": {
    "collapsed": true
   },
   "source": [
    "Так может и обратно можно?<br> Можно"
   ]
  },
  {
   "cell_type": "code",
   "execution_count": null,
   "metadata": {},
   "outputs": [],
   "source": [
    "dict([('Россия', 17.098), ('Канада', 9.97), ('США', 9.62), ('Китай', 9.59), ('Бразилия', 8.51)])"
   ]
  },
  {
   "cell_type": "markdown",
   "metadata": {
    "collapsed": true
   },
   "source": [
    "Так что же такое tuple? Это не изменяемый список. Задается либо с помощью функции tuple() либо так же, как и обычный список, но через круглые скобки."
   ]
  },
  {
   "cell_type": "code",
   "execution_count": null,
   "metadata": {},
   "outputs": [],
   "source": [
    "a = tuple([1,2,3,4])\n",
    "a[0] = 1 # Попробуем его изменить\n",
    "a"
   ]
  },
  {
   "cell_type": "markdown",
   "metadata": {
    "collapsed": true
   },
   "source": [
    "#### Еще одна функция\n",
    "zip() - функция которая сшивает 2 списка в список кортежей"
   ]
  },
  {
   "cell_type": "markdown",
   "metadata": {},
   "source": [
    "Эту конструкцию можно использовать, когда нам нужно перебрать элементы двух связанных между собой списков. Например, вот так можно вывести информацию о том, какой студент какую оценку имеет, не используя словари:"
   ]
  },
  {
   "cell_type": "code",
   "execution_count": null,
   "metadata": {},
   "outputs": [],
   "source": [
    "# то есть можно было не делать словарь\n",
    "country = ['Россия', 'США', 'Китай']\n",
    "squares = [17, 9 ,9]\n",
    "for country_, square in zip(country, squares):\n",
    "    print(country_, \"имеет площадь\", square)"
   ]
  },
  {
   "cell_type": "markdown",
   "metadata": {},
   "source": [
    "zip() умеет сшивать не только пары"
   ]
  },
  {
   "cell_type": "code",
   "execution_count": null,
   "metadata": {
    "collapsed": true
   },
   "outputs": [],
   "source": [
    "list(zip([1,2,3,4], [5,6,7,8], ['a','b','c','d']))"
   ]
  },
  {
   "cell_type": "markdown",
   "metadata": {
    "collapsed": true
   },
   "source": [
    "Если какой-то из списков окажется короче, то zip() «обрежет» остальные списки:"
   ]
  },
  {
   "cell_type": "code",
   "execution_count": null,
   "metadata": {
    "collapsed": true
   },
   "outputs": [],
   "source": [
    "list(zip([1,2,3], ['a','b']))"
   ]
  },
  {
   "cell_type": "markdown",
   "metadata": {},
   "source": [
    "#### Какие объекты могут быть ключами словарей\n"
   ]
  },
  {
   "cell_type": "markdown",
   "metadata": {},
   "source": [
    "До сих пор мы рассматривали словари, ключами которых являются строки и числа. На самом деле, ключами могут быть и более сложно устроенные объекты. Например, представим себе такую реализацию фрагмента таблицы сложения в виде словаря:"
   ]
  },
  {
   "cell_type": "code",
   "execution_count": null,
   "metadata": {
    "collapsed": true
   },
   "outputs": [],
   "source": [
    "sums = {(2,3): 5, (4, 1): 5, (5, 7): 12}\n",
    "sums"
   ]
  },
  {
   "cell_type": "markdown",
   "metadata": {
    "collapsed": true
   },
   "source": [
    "Здесь ключами являются кортежи, состоящие из двух чисел, а значениями — суммы этих чисел"
   ]
  },
  {
   "cell_type": "code",
   "execution_count": null,
   "metadata": {
    "collapsed": true
   },
   "outputs": [],
   "source": [
    "sums[(2,3)]"
   ]
  },
  {
   "cell_type": "markdown",
   "metadata": {
    "collapsed": true
   },
   "source": [
    "В этом месте проявляется важное отличие кортежей от списков: последние не могут быть ключами словарей, поскольку могут изменяться."
   ]
  },
  {
   "cell_type": "code",
   "execution_count": null,
   "metadata": {
    "collapsed": true
   },
   "outputs": [],
   "source": [
    "sums = {[1,2]: 3}"
   ]
  },
  {
   "cell_type": "markdown",
   "metadata": {},
   "source": [
    "#### Задачи"
   ]
  },
  {
   "cell_type": "markdown",
   "metadata": {},
   "source": [
    "1. Создайте словарь, где ключами являются имена (ваше и ваших 5 друзей), а значениями - возраст. Удалите один элемент словаря (себя). <br>\n",
    "P.s. работает та же функция, что и для списков <br>\n",
    "p.p.s del\n",
    "2. Вычислите средний возраст ваших друзей.\n",
    "3. Создайте новый словарь, в котором все было бы наоборот: ключи - это возраст, а значения - имена.\n",
    "4. Имена всех ли друзей присутствуют в вашем новом словаре?"
   ]
  },
  {
   "cell_type": "code",
   "execution_count": null,
   "metadata": {
    "collapsed": true
   },
   "outputs": [],
   "source": [
    "# решение"
   ]
  },
  {
   "cell_type": "markdown",
   "metadata": {},
   "source": [
    "### Сложные структуры данных"
   ]
  },
  {
   "cell_type": "markdown",
   "metadata": {},
   "source": [
    "Списки позволяют сохранить некоторый ряд значений, но зачастую нужно уметь работать с более сложные структурами — например, с таблицами. В некоторых языках программирования есть *двумерные массивы*. Аналогом двумерного массива в Python является «список списков», то есть такой список, элементами которого являются другие списки.\n",
    "\n",
    "Рассмотрим пример: таблица, в которой записаны несколько характеристик стран: площадь, население, плотность населения."
   ]
  },
  {
   "cell_type": "code",
   "execution_count": null,
   "metadata": {
    "collapsed": true
   },
   "outputs": [],
   "source": [
    "# Обратите внимание перенос строки\n",
    "table = [[\"Россия\",  \"Канада\",\"США\", \"Китай\", \"Бразилия\"], \n",
    "         [17.07, 9.9, 9.6, 9.5, 8.5],\n",
    "         [143, 32, 295,1306, 186],\n",
    "         [8, 3, 30, 136, 21]]"
   ]
  },
  {
   "cell_type": "markdown",
   "metadata": {},
   "source": [
    "Здесь каждый элемент списка `table` — это строчка нашей таблицы, то есть тоже список. Например, вот так можно узнать, что записано в третьей строке и четвертом столбце нашей таблицы:"
   ]
  },
  {
   "cell_type": "code",
   "execution_count": null,
   "metadata": {},
   "outputs": [],
   "source": [
    "table[2][3]"
   ]
  },
  {
   "cell_type": "markdown",
   "metadata": {},
   "source": [
    "Что здесь произошло? Мы сначала вызвали третью строку таблицы с помощью"
   ]
  },
  {
   "cell_type": "code",
   "execution_count": null,
   "metadata": {},
   "outputs": [],
   "source": [
    "table[2]"
   ]
  },
  {
   "cell_type": "markdown",
   "metadata": {},
   "source": [
    "А потом из этой третьей строки выбрали четвертый элемент с помощью `[3]`. Можно было бы записать это более подробно:"
   ]
  },
  {
   "cell_type": "code",
   "execution_count": null,
   "metadata": {},
   "outputs": [],
   "source": [
    "row = table[2]\n",
    "print(row[3])\n",
    "# row[3] это то же самое, что table[2][3]"
   ]
  },
  {
   "cell_type": "markdown",
   "metadata": {},
   "source": [
    "Допустим теперь, что нам всё же хочется знать, плотность населения какой-то страны, делая вызов значения по названию страны, а не по ее номеру. Тогда мы могли бы вместо списка списков использовать словарь, у которого списки были бы значениями:"
   ]
  },
  {
   "cell_type": "code",
   "execution_count": null,
   "metadata": {
    "collapsed": true
   },
   "outputs": [],
   "source": [
    "countries = {'Россия': [17.07, 143, 8], \n",
    "             'Канада': [9.9, 32, 30], \n",
    "             'США': [9.6, 295, 136], \n",
    "             'Китай':[9.6, 1306, 136], \n",
    "             'Бразилия':[8.5, 186, 21]}"
   ]
  },
  {
   "cell_type": "markdown",
   "metadata": {},
   "source": [
    "Теперь пишем строчку, аналогичную той. что мы писали для списка списков."
   ]
  },
  {
   "cell_type": "code",
   "execution_count": null,
   "metadata": {},
   "outputs": [],
   "source": [
    "countries['Китай'][-1]"
   ]
  }
 ],
 "metadata": {
  "anaconda-cloud": {},
  "kernelspec": {
   "display_name": "Python 3",
   "language": "python",
   "name": "python3"
  },
  "language_info": {
   "codemirror_mode": {
    "name": "ipython",
    "version": 3
   },
   "file_extension": ".py",
   "mimetype": "text/x-python",
   "name": "python",
   "nbconvert_exporter": "python",
   "pygments_lexer": "ipython3",
   "version": "3.6.4"
  }
 },
 "nbformat": 4,
 "nbformat_minor": 2
}
